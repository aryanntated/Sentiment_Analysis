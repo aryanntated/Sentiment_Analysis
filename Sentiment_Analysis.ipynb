{
  "cells": [
    {
      "cell_type": "markdown",
      "metadata": {
        "id": "view-in-github",
        "colab_type": "text"
      },
      "source": [
        "<a href=\"https://colab.research.google.com/github/aryanntated/Sentiment_Analysis/blob/main/Sentiment_Analysis.ipynb\" target=\"_parent\"><img src=\"https://colab.research.google.com/assets/colab-badge.svg\" alt=\"Open In Colab\"/></a>"
      ]
    },
    {
      "cell_type": "code",
      "execution_count": null,
      "id": "06991567",
      "metadata": {
        "id": "06991567"
      },
      "outputs": [],
      "source": [
        "import pandas as pd\n",
        "import matplotlib.pyplot as plt\n",
        "import seaborn as sns\n",
        "import re"
      ]
    },
    {
      "cell_type": "code",
      "execution_count": null,
      "id": "186bd490",
      "metadata": {
        "id": "186bd490"
      },
      "outputs": [],
      "source": [
        "import nltk\n",
        "from nltk.corpus import stopwords\n",
        "from nltk.stem import WordNetLemmatizer"
      ]
    },
    {
      "cell_type": "code",
      "execution_count": null,
      "id": "440efbb9",
      "metadata": {
        "id": "440efbb9"
      },
      "outputs": [],
      "source": [
        "from sklearn.feature_extraction.text import CountVectorizer\n",
        "from sklearn.model_selection import GridSearchCV\n",
        "from sklearn.ensemble import RandomForestClassifier"
      ]
    },
    {
      "cell_type": "code",
      "execution_count": null,
      "id": "98984e4f",
      "metadata": {
        "id": "98984e4f"
      },
      "outputs": [],
      "source": [
        "from sklearn.metrics import accuracy_score, precision_score, recall_score, confusion_matrix, roc_curve\n",
        "from sklearn.metrics import classification_report, plot_confusion_matrix"
      ]
    },
    {
      "cell_type": "code",
      "execution_count": null,
      "id": "ddf9cc94",
      "metadata": {
        "id": "ddf9cc94"
      },
      "outputs": [],
      "source": [
        "df_train= pd.read_csv(\"train.txt\", delimiter=\";\",names=['text','label'])\n",
        "df_val=pd.read_csv(\"val.txt\", delimiter=\";\", names=['text','label'])\n"
      ]
    },
    {
      "cell_type": "code",
      "execution_count": null,
      "id": "cc66ff8e",
      "metadata": {
        "id": "cc66ff8e"
      },
      "outputs": [],
      "source": [
        "df=pd.concat([df_train, df_val])\n",
        "df.reset_index(inplace=True, drop=True)"
      ]
    },
    {
      "cell_type": "code",
      "execution_count": null,
      "id": "64e90674",
      "metadata": {
        "id": "64e90674",
        "outputId": "76e3fb3a-07a2-402a-c206-ea508f69138e"
      },
      "outputs": [
        {
          "name": "stdout",
          "output_type": "stream",
          "text": [
            "Shape of the dataframe:  (18000, 2)\n"
          ]
        },
        {
          "data": {
            "text/html": [
              "<div>\n",
              "<style scoped>\n",
              "    .dataframe tbody tr th:only-of-type {\n",
              "        vertical-align: middle;\n",
              "    }\n",
              "\n",
              "    .dataframe tbody tr th {\n",
              "        vertical-align: top;\n",
              "    }\n",
              "\n",
              "    .dataframe thead th {\n",
              "        text-align: right;\n",
              "    }\n",
              "</style>\n",
              "<table border=\"1\" class=\"dataframe\">\n",
              "  <thead>\n",
              "    <tr style=\"text-align: right;\">\n",
              "      <th></th>\n",
              "      <th>text</th>\n",
              "      <th>label</th>\n",
              "    </tr>\n",
              "  </thead>\n",
              "  <tbody>\n",
              "    <tr>\n",
              "      <th>2960</th>\n",
              "      <td>i felt rich being able to insist on paying mor...</td>\n",
              "      <td>joy</td>\n",
              "    </tr>\n",
              "    <tr>\n",
              "      <th>9719</th>\n",
              "      <td>i feel precious little pressure to fill them w...</td>\n",
              "      <td>joy</td>\n",
              "    </tr>\n",
              "    <tr>\n",
              "      <th>4186</th>\n",
              "      <td>i go fishing i really feel so carefree can i f...</td>\n",
              "      <td>joy</td>\n",
              "    </tr>\n",
              "    <tr>\n",
              "      <th>8965</th>\n",
              "      <td>i go back to that day however and hear jesus w...</td>\n",
              "      <td>fear</td>\n",
              "    </tr>\n",
              "    <tr>\n",
              "      <th>9644</th>\n",
              "      <td>im starting to feel more sociable again i actu...</td>\n",
              "      <td>joy</td>\n",
              "    </tr>\n",
              "  </tbody>\n",
              "</table>\n",
              "</div>"
            ],
            "text/plain": [
              "                                                   text label\n",
              "2960  i felt rich being able to insist on paying mor...   joy\n",
              "9719  i feel precious little pressure to fill them w...   joy\n",
              "4186  i go fishing i really feel so carefree can i f...   joy\n",
              "8965  i go back to that day however and hear jesus w...  fear\n",
              "9644  im starting to feel more sociable again i actu...   joy"
            ]
          },
          "execution_count": 8,
          "metadata": {},
          "output_type": "execute_result"
        }
      ],
      "source": [
        "print(\"Shape of the dataframe: \", df.shape)\n",
        "df.sample(5)"
      ]
    },
    {
      "cell_type": "code",
      "execution_count": null,
      "id": "762d0dce",
      "metadata": {
        "id": "762d0dce",
        "outputId": "248b8bed-37d8-433d-bef9-a764de5d3f53"
      },
      "outputs": [
        {
          "name": "stderr",
          "output_type": "stream",
          "text": [
            "C:\\Users\\Aryann\\anaconda3\\lib\\site-packages\\seaborn\\_decorators.py:36: FutureWarning: Pass the following variable as a keyword arg: x. From version 0.12, the only valid positional argument will be `data`, and passing other arguments without an explicit keyword will result in an error or misinterpretation.\n",
            "  warnings.warn(\n"
          ]
        },
        {
          "data": {
            "text/plain": [
              "<AxesSubplot:xlabel='label', ylabel='count'>"
            ]
          },
          "execution_count": 9,
          "metadata": {},
          "output_type": "execute_result"
        },
        {
          "data": {
            "image/png": "[encoded data removed]",
            "text/plain": [
              "<Figure size 432x288 with 1 Axes>"
            ]
          },
          "metadata": {
            "needs_background": "light"
          },
          "output_type": "display_data"
        }
      ],
      "source": [
        "sns.countplot(df.label)"
      ]
    },
    {
      "cell_type": "code",
      "execution_count": null,
      "id": "b8eebdc8",
      "metadata": {
        "id": "b8eebdc8"
      },
      "outputs": [],
      "source": [
        "def custom_encoder(df):\n",
        "    df.replace(to_replace=\"surprise\", value=1, inplace=True)\n",
        "    df.replace(to_replace=\"joy\", value=1, inplace=True)\n",
        "    df.replace(to_replace=\"love\", value=1, inplace=True)\n",
        "    df.replace(to_replace=\"fear\", value=0, inplace=True)\n",
        "    df.replace(to_replace=\"anger\", value=0, inplace=True)\n",
        "    df.replace(to_replace=\"sadness\", value=0, inplace=True)"
      ]
    },
    {
      "cell_type": "code",
      "execution_count": null,
      "id": "8822a0aa",
      "metadata": {
        "id": "8822a0aa"
      },
      "outputs": [],
      "source": [
        "custom_encoder(df['label'])"
      ]
    },
    {
      "cell_type": "code",
      "execution_count": null,
      "id": "2259df2c",
      "metadata": {
        "id": "2259df2c",
        "outputId": "5cb3c0b3-2014-4920-a2d0-c1bd3e3b864b"
      },
      "outputs": [
        {
          "name": "stderr",
          "output_type": "stream",
          "text": [
            "C:\\Users\\Aryann\\anaconda3\\lib\\site-packages\\seaborn\\_decorators.py:36: FutureWarning: Pass the following variable as a keyword arg: x. From version 0.12, the only valid positional argument will be `data`, and passing other arguments without an explicit keyword will result in an error or misinterpretation.\n",
            "  warnings.warn(\n"
          ]
        },
        {
          "data": {
            "text/plain": [
              "<AxesSubplot:xlabel='label', ylabel='count'>"
            ]
          },
          "execution_count": 12,
          "metadata": {},
          "output_type": "execute_result"
        },
        {
          "data": {
            "image/png": "[encoded data removed]",
            "text/plain": [
              "<Figure size 432x288 with 1 Axes>"
            ]
          },
          "metadata": {
            "needs_background": "light"
          },
          "output_type": "display_data"
        }
      ],
      "source": [
        "sns.countplot(df.label)"
      ]
    },
    {
      "cell_type": "code",
      "execution_count": null,
      "id": "18c96876",
      "metadata": {
        "id": "18c96876"
      },
      "outputs": [],
      "source": [
        "lm=WordNetLemmatizer()"
      ]
    },
    {
      "cell_type": "code",
      "execution_count": null,
      "id": "7c6f94e5",
      "metadata": {
        "id": "7c6f94e5"
      },
      "outputs": [],
      "source": [
        "def text_transformation(df_col):\n",
        "    corpus=[]\n",
        "    for item in df_col:\n",
        "        new_item= re.sub('[^a-zA-Z]','',str(item))\n",
        "        new_item= new_item.lower()\n",
        "        new_item= new_item.split()\n",
        "        new_item= [lm.lemmatize(word) for word in new_item if word not in set(stopwords.words('english'))]\n",
        "        corpus.append(' '.join(str(x) for x in new_item))\n",
        "    return corpus"
      ]
    },
    {
      "cell_type": "code",
      "execution_count": null,
      "id": "12043d82",
      "metadata": {
        "id": "12043d82"
      },
      "outputs": [],
      "source": [
        "corpus=text_transformation(df['text'])"
      ]
    },
    {
      "cell_type": "code",
      "execution_count": null,
      "id": "7cfdd5f8",
      "metadata": {
        "id": "7cfdd5f8",
        "outputId": "1f7cd781-6f53-4ba5-fbab-ae9453d14310"
      },
      "outputs": [
        {
          "data": {
            "text/plain": [
              "['ididntfeelhumiliated',\n",
              " 'icangofromfeelingsohopelesstosodamnedhopefuljustfrombeingaroundsomeonewhocaresandisawake',\n",
              " 'imgrabbingaminutetopostifeelgreedywrong',\n",
              " 'iameverfeelingnostalgicaboutthefireplaceiwillknowthatitisstillontheproperty',\n",
              " 'iamfeelinggrouchy']"
            ]
          },
          "execution_count": 16,
          "metadata": {},
          "output_type": "execute_result"
        }
      ],
      "source": [
        "corpus[:5]"
      ]
    },
    {
      "cell_type": "code",
      "execution_count": null,
      "id": "adb19b9f",
      "metadata": {
        "id": "adb19b9f"
      },
      "outputs": [],
      "source": [
        "cv=CountVectorizer(ngram_range=(1,2))\n",
        "traindata=cv.fit_transform(corpus)\n",
        "X=traindata\n",
        "y=df.label"
      ]
    },
    {
      "cell_type": "code",
      "execution_count": null,
      "id": "76fd4c0e",
      "metadata": {
        "id": "76fd4c0e"
      },
      "outputs": [],
      "source": [
        "parameters={#'max_features':('auto','sqrt'),\n",
        "           'n_estimators':[5,10],\n",
        "           'max_depth':[10,None],\n",
        "           'min_samples_split':[5],\n",
        "           'min_samples_leaf':[1],\n",
        "           'bootstrap':[True]}"
      ]
    },
    {
      "cell_type": "code",
      "execution_count": null,
      "id": "8c0bdefb",
      "metadata": {
        "id": "8c0bdefb",
        "outputId": "a98a3717-612b-43d5-e55a-2c11bcf22a5b"
      },
      "outputs": [
        {
          "data": {
            "text/plain": [
              "{'bootstrap': True,\n",
              " 'max_depth': None,\n",
              " 'min_samples_leaf': 1,\n",
              " 'min_samples_split': 5,\n",
              " 'n_estimators': 10}"
            ]
          },
          "execution_count": 22,
          "metadata": {},
          "output_type": "execute_result"
        }
      ],
      "source": [
        "grid_search= GridSearchCV (RandomForestClassifier(), parameters, cv=5, return_train_score=True, n_jobs=1)\n",
        "grid_search.fit(X,y)\n",
        "grid_search.best_params_"
      ]
    },
    {
      "cell_type": "code",
      "execution_count": null,
      "id": "f2028bd9",
      "metadata": {
        "id": "f2028bd9",
        "outputId": "70887158-73ba-4ecc-8af4-5d465eac9cc2"
      },
      "outputs": [
        {
          "name": "stdout",
          "output_type": "stream",
          "text": [
            "Parameters: {'bootstrap': True, 'max_depth': 10, 'min_samples_leaf': 1, 'min_samples_split': 5, 'n_estimators': 5}\n",
            "Mean Test Score: 0.5443888888888889\n",
            "Rank: 4\n",
            "Parameters: {'bootstrap': True, 'max_depth': 10, 'min_samples_leaf': 1, 'min_samples_split': 5, 'n_estimators': 10}\n",
            "Mean Test Score: 0.5444444444444445\n",
            "Rank: 3\n",
            "Parameters: {'bootstrap': True, 'max_depth': None, 'min_samples_leaf': 1, 'min_samples_split': 5, 'n_estimators': 5}\n",
            "Mean Test Score: 0.5458333333333334\n",
            "Rank: 2\n",
            "Parameters: {'bootstrap': True, 'max_depth': None, 'min_samples_leaf': 1, 'min_samples_split': 5, 'n_estimators': 10}\n",
            "Mean Test Score: 0.5459444444444445\n",
            "Rank: 1\n"
          ]
        }
      ],
      "source": [
        "for i in range(4):\n",
        "    print(\"Parameters:\", grid_search.cv_results_['params'][i])\n",
        "    print(\"Mean Test Score:\", grid_search.cv_results_['mean_test_score'][i])\n",
        "    print(\"Rank:\", grid_search.cv_results_['rank_test_score'][i])"
      ]
    },
    {
      "cell_type": "code",
      "execution_count": null,
      "id": "f67507fc",
      "metadata": {
        "id": "f67507fc",
        "outputId": "afef7a10-f16d-4b6e-c803-87fd7f525f19"
      },
      "outputs": [
        {
          "data": {
            "text/plain": [
              "RandomForestClassifier(min_samples_split=5, n_estimators=10)"
            ]
          },
          "execution_count": 24,
          "metadata": {},
          "output_type": "execute_result"
        }
      ],
      "source": [
        "rfc= RandomForestClassifier(#max_features= grid_search.best_params_['max_features'],\n",
        "                           max_depth= grid_search.best_params_['max_depth'],\n",
        "                           n_estimators= grid_search.best_params_['n_estimators'],\n",
        "                           min_samples_split= grid_search.best_params_['min_samples_split'],\n",
        "                           min_samples_leaf= grid_search.best_params_['min_samples_leaf'],\n",
        "                           bootstrap= grid_search.best_params_['bootstrap'])\n",
        "\n",
        "rfc.fit(X,y)"
      ]
    },
    {
      "cell_type": "code",
      "execution_count": null,
      "id": "852d0891",
      "metadata": {
        "id": "852d0891"
      },
      "outputs": [],
      "source": [
        "test_df= pd.read_csv('test.txt', delimiter=';', names=['text','label'])"
      ]
    },
    {
      "cell_type": "code",
      "execution_count": null,
      "id": "5482f2b2",
      "metadata": {
        "id": "5482f2b2"
      },
      "outputs": [],
      "source": [
        "X_test, y_test= test_df.text, test_df.label\n",
        "\n",
        "# encode the labels into two classes 0 and 1\n",
        "test_df= custom_encoder(y_test)\n",
        "# pre-processing of text\n",
        "test_corpus=text_transformation(X_test)\n",
        "# convert the text data into vectors\n",
        "testdata=cv.transform(test_corpus)\n",
        "#predict the target\n",
        "predictions=rfc.predict(testdata)"
      ]
    },
    {
      "cell_type": "code",
      "execution_count": null,
      "id": "18422e9c",
      "metadata": {
        "id": "18422e9c",
        "outputId": "e9e6344e-c69e-4665-fa44-ae0be31c6ea2"
      },
      "outputs": [
        {
          "name": "stdout",
          "output_type": "stream",
          "text": [
            "Accuracy Score: 0.5435\n",
            "Precision Score: 1.0\n",
            "Recall Score: 0.007608695652173913\n",
            "--------------------------------------------------\n",
            "              precision    recall  f1-score   support\n",
            "\n",
            "           0       0.54      1.00      0.70      1080\n",
            "           1       1.00      0.01      0.02       920\n",
            "\n",
            "    accuracy                           0.54      2000\n",
            "   macro avg       0.77      0.50      0.36      2000\n",
            "weighted avg       0.75      0.54      0.39      2000\n",
            "\n"
          ]
        }
      ],
      "source": [
        "acc_score= accuracy_score(y_test, predictions)\n",
        "pre_score= precision_score(y_test, predictions)\n",
        "rec_score= recall_score(y_test, predictions)\n",
        "\n",
        "print('Accuracy Score:', acc_score)\n",
        "print('Precision Score:', pre_score)\n",
        "print('Recall Score:', rec_score)\n",
        "\n",
        "print(\"-\"*50)\n",
        "cr=classification_report(y_test, predictions)\n",
        "print(cr)"
      ]
    },
    {
      "cell_type": "code",
      "execution_count": null,
      "id": "3c85c873",
      "metadata": {
        "id": "3c85c873",
        "outputId": "ed29aa6d-3212-475a-ddfe-9855cd72deab"
      },
      "outputs": [
        {
          "data": {
            "image/png": "[encoded data removed]",
            "text/plain": [
              "<Figure size 432x288 with 1 Axes>"
            ]
          },
          "metadata": {
            "needs_background": "light"
          },
          "output_type": "display_data"
        }
      ],
      "source": [
        "prediction_probability=rfc.predict_proba(testdata)\n",
        "fpr, tpr, thresholds= roc_curve(y_test, prediction_probability[:,1])\n",
        "plt.plot(fpr,tpr)\n",
        "plt.plot([0,1])\n",
        "plt.title(\"ROC Curve\")\n",
        "plt.xlabel('False Positive Rate')\n",
        "plt.ylabel('True Positive Rate')\n",
        "plt.show()"
      ]
    },
    {
      "cell_type": "code",
      "execution_count": null,
      "id": "f05ae308",
      "metadata": {
        "id": "f05ae308"
      },
      "outputs": [],
      "source": [
        "def expression_check(prediction_input):\n",
        "    if prediction_input==0:\n",
        "        print(\"Input Statement has negative sentiment\")\n",
        "    elif prediction_input==1:\n",
        "        print(\"Input statement has positive sentiment\")\n",
        "    else:\n",
        "        print(\"Invalid Statement\")"
      ]
    },
    {
      "cell_type": "code",
      "execution_count": null,
      "id": "4b7fa6b4",
      "metadata": {
        "id": "4b7fa6b4"
      },
      "outputs": [],
      "source": [
        "def sentiment_predictor(input):\n",
        "    input= text_transformation(input)\n",
        "    transformed_input= cv.transform(input)\n",
        "    prediction=rfc.predict(transformed_input)\n",
        "    expression_check(prediction)"
      ]
    },
    {
      "cell_type": "code",
      "execution_count": null,
      "id": "2e11d016",
      "metadata": {
        "id": "2e11d016"
      },
      "outputs": [],
      "source": [
        "input1=[\"Sometimes I just don't want to go out\"]\n",
        "input2=[\"I bought a new phone and it's so good\"]"
      ]
    },
    {
      "cell_type": "code",
      "execution_count": null,
      "id": "172c9d79",
      "metadata": {
        "id": "172c9d79",
        "outputId": "266bf459-1f96-4c4e-f01e-1fcc1a24a11d"
      },
      "outputs": [
        {
          "name": "stdout",
          "output_type": "stream",
          "text": [
            "Input Statement has negative sentiment\n",
            "Input Statement has negative sentiment\n"
          ]
        }
      ],
      "source": [
        "sentiment_predictor(input1)\n",
        "sentiment_predictor(input2)"
      ]
    }
  ],
  "metadata": {
    "kernelspec": {
      "display_name": "Python 3 (ipykernel)",
      "language": "python",
      "name": "python3"
    },
    "language_info": {
      "codemirror_mode": {
        "name": "ipython",
        "version": 3
      },
      "file_extension": ".py",
      "mimetype": "text/x-python",
      "name": "python",
      "nbconvert_exporter": "python",
      "pygments_lexer": "ipython3",
      "version": "3.11.0"
    },
    "colab": {
      "provenance": [],
      "include_colab_link": true
    }
  },
  "nbformat": 4,
  "nbformat_minor": 5
}